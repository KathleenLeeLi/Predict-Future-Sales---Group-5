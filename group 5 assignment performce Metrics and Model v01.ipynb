{
 "cells": [
  {
   "cell_type": "code",
   "execution_count": 258,
   "metadata": {},
   "outputs": [],
   "source": [
    "# import libs\n",
    "import pandas as pd\n",
    "import numpy as np\n",
    "import datetime\n",
    "import matplotlib.pyplot as plt\n",
    "import statsmodels.formula.api as sm\n",
    "import seaborn as sns\n",
    "from scipy import stats\n",
    "from statsmodels.tools.eval_measures import rmse\n",
    "\n",
    "%matplotlib inline\n",
    "\n",
    "from sklearn.ensemble import RandomForestRegressor\n",
    "from sklearn.preprocessing import LabelEncoder\n",
    "#from sklearn.impute import SimpleImputer\n",
    "from sklearn.model_selection import train_test_split\n",
    "from pandas.plotting import scatter_matrix\n",
    "\n",
    "\n"
   ]
  },
  {
   "cell_type": "code",
   "execution_count": 259,
   "metadata": {},
   "outputs": [],
   "source": [
    "# Read dataset file that was donwloaded\n",
    "#sales_dirty_df = pd.read_csv(filepath_or_buffer='sales_train_v2.csv', sep=',')\n",
    "sales_train_df = pd.read_csv('sales_train_v2.csv', sep=',',header=0,parse_dates=True)\n",
    "\n",
    "shops_df = pd.read_csv('shops.csv', sep=',',header=0)\n",
    "item_category_df = pd.read_csv('item_categories.csv', sep=',',header=0)\n",
    "items_df = pd.read_csv('items.csv', sep=',',header=0)\n",
    "test_df = pd.read_csv('test.csv', sep=',',header=0)\n"
   ]
  },
  {
   "cell_type": "code",
   "execution_count": 260,
   "metadata": {},
   "outputs": [
    {
     "name": "stdout",
     "output_type": "stream",
     "text": [
      "<class 'pandas.core.frame.DataFrame'>\n",
      "RangeIndex: 2935849 entries, 0 to 2935848\n",
      "Data columns (total 6 columns):\n",
      "date              object\n",
      "date_block_num    int64\n",
      "shop_id           int64\n",
      "item_id           int64\n",
      "item_price        float64\n",
      "item_cnt_day      float64\n",
      "dtypes: float64(2), int64(3), object(1)\n",
      "memory usage: 134.4+ MB\n"
     ]
    }
   ],
   "source": [
    "# View info()\n",
    "sales_train_df.info()"
   ]
  },
  {
   "cell_type": "code",
   "execution_count": 262,
   "metadata": {},
   "outputs": [],
   "source": [
    "# Split the date into day, month and year to facilitate deeper interpretation.\n",
    "\n",
    "raw_date = sales_train_df.date.apply(lambda x:datetime.datetime.strptime(x, '%d.%m.%Y'))\n",
    "\n",
    "sales_train_df['day'] = raw_date.dt.day\n",
    "sales_train_df['month'] = raw_date.dt.month\n",
    "sales_train_df['year'] = raw_date.dt.year\n",
    "\n",
    "#sales_train_df.head()"
   ]
  },
  {
   "cell_type": "code",
   "execution_count": 265,
   "metadata": {},
   "outputs": [],
   "source": [
    "# calculate the sales store per month\n",
    "sales_train_df['sales']=sales_train_df.item_price*sales_train_df.item_cnt_day"
   ]
  },
  {
   "cell_type": "code",
   "execution_count": 267,
   "metadata": {},
   "outputs": [],
   "source": [
    "# Add item category to the sales train dataset\n",
    "sales_train_df = pd.merge(sales_train_df,items_df, on='item_id')\n",
    "sales_train_df.drop('item_name', axis=1,inplace=True)"
   ]
  },
  {
   "cell_type": "code",
   "execution_count": 268,
   "metadata": {
    "scrolled": true
   },
   "outputs": [
    {
     "data": {
      "text/html": [
       "<div>\n",
       "<style scoped>\n",
       "    .dataframe tbody tr th:only-of-type {\n",
       "        vertical-align: middle;\n",
       "    }\n",
       "\n",
       "    .dataframe tbody tr th {\n",
       "        vertical-align: top;\n",
       "    }\n",
       "\n",
       "    .dataframe thead th {\n",
       "        text-align: right;\n",
       "    }\n",
       "</style>\n",
       "<table border=\"1\" class=\"dataframe\">\n",
       "  <thead>\n",
       "    <tr style=\"text-align: right;\">\n",
       "      <th></th>\n",
       "      <th>date</th>\n",
       "      <th>date_block_num</th>\n",
       "      <th>shop_id</th>\n",
       "      <th>item_id</th>\n",
       "      <th>item_price</th>\n",
       "      <th>item_cnt_day</th>\n",
       "      <th>day</th>\n",
       "      <th>month</th>\n",
       "      <th>year</th>\n",
       "      <th>sales</th>\n",
       "      <th>item_category_id_x</th>\n",
       "      <th>item_category_id_y</th>\n",
       "      <th>item_category_id</th>\n",
       "    </tr>\n",
       "  </thead>\n",
       "  <tbody>\n",
       "    <tr>\n",
       "      <th>0</th>\n",
       "      <td>02.01.2013</td>\n",
       "      <td>0</td>\n",
       "      <td>59</td>\n",
       "      <td>22154</td>\n",
       "      <td>999.0</td>\n",
       "      <td>1.0</td>\n",
       "      <td>2</td>\n",
       "      <td>1</td>\n",
       "      <td>2013</td>\n",
       "      <td>999.0</td>\n",
       "      <td>37</td>\n",
       "      <td>37</td>\n",
       "      <td>37</td>\n",
       "    </tr>\n",
       "    <tr>\n",
       "      <th>1</th>\n",
       "      <td>23.01.2013</td>\n",
       "      <td>0</td>\n",
       "      <td>24</td>\n",
       "      <td>22154</td>\n",
       "      <td>999.0</td>\n",
       "      <td>1.0</td>\n",
       "      <td>23</td>\n",
       "      <td>1</td>\n",
       "      <td>2013</td>\n",
       "      <td>999.0</td>\n",
       "      <td>37</td>\n",
       "      <td>37</td>\n",
       "      <td>37</td>\n",
       "    </tr>\n",
       "    <tr>\n",
       "      <th>2</th>\n",
       "      <td>20.01.2013</td>\n",
       "      <td>0</td>\n",
       "      <td>27</td>\n",
       "      <td>22154</td>\n",
       "      <td>999.0</td>\n",
       "      <td>1.0</td>\n",
       "      <td>20</td>\n",
       "      <td>1</td>\n",
       "      <td>2013</td>\n",
       "      <td>999.0</td>\n",
       "      <td>37</td>\n",
       "      <td>37</td>\n",
       "      <td>37</td>\n",
       "    </tr>\n",
       "  </tbody>\n",
       "</table>\n",
       "</div>"
      ],
      "text/plain": [
       "         date  date_block_num  shop_id  item_id  item_price  item_cnt_day  \\\n",
       "0  02.01.2013               0       59    22154       999.0           1.0   \n",
       "1  23.01.2013               0       24    22154       999.0           1.0   \n",
       "2  20.01.2013               0       27    22154       999.0           1.0   \n",
       "\n",
       "   day  month  year  sales  item_category_id_x  item_category_id_y  \\\n",
       "0    2      1  2013  999.0                  37                  37   \n",
       "1   23      1  2013  999.0                  37                  37   \n",
       "2   20      1  2013  999.0                  37                  37   \n",
       "\n",
       "   item_category_id  \n",
       "0                37  \n",
       "1                37  \n",
       "2                37  "
      ]
     },
     "execution_count": 268,
     "metadata": {},
     "output_type": "execute_result"
    }
   ],
   "source": [
    "new_sales_train=sales_train_df\n",
    "new_sales_train.head(3)"
   ]
  },
  {
   "cell_type": "code",
   "execution_count": 319,
   "metadata": {},
   "outputs": [],
   "source": [
    "# preparing the series for the model\n",
    "df2 = pd.DataFrame(new_sales_train,columns=['date','sales'])\n",
    "# convert column date to datetime\n",
    "df2['date'] = df2['date'].astype('datetime64[ns]')\n",
    "df2.index = df2.date\n",
    "#removing null values\n",
    "df2['sales'] = df2['sales'].fillna(0)\n",
    "df2 = df2.resample('D').mean()"
   ]
  },
  {
   "cell_type": "code",
   "execution_count": 308,
   "metadata": {},
   "outputs": [
    {
     "data": {
      "image/png": "[encoded data removed]",
      "text/plain": [
       "<Figure size 1080x576 with 1 Axes>"
      ]
     },
     "metadata": {
      "needs_background": "light"
     },
     "output_type": "display_data"
    }
   ],
   "source": [
    "df2.plot(figsize=(15,8), title= 'Sales plot', fontsize=14)\n",
    "plt.show()\n",
    "# observation: we can see that the sales is steady throughout the year but has some peaks before January, july"
   ]
  },
  {
   "cell_type": "code",
   "execution_count": 320,
   "metadata": {},
   "outputs": [
    {
     "data": {
      "text/html": [
       "<div>\n",
       "<style scoped>\n",
       "    .dataframe tbody tr th:only-of-type {\n",
       "        vertical-align: middle;\n",
       "    }\n",
       "\n",
       "    .dataframe tbody tr th {\n",
       "        vertical-align: top;\n",
       "    }\n",
       "\n",
       "    .dataframe thead th {\n",
       "        text-align: right;\n",
       "    }\n",
       "</style>\n",
       "<table border=\"1\" class=\"dataframe\">\n",
       "  <thead>\n",
       "    <tr style=\"text-align: right;\">\n",
       "      <th></th>\n",
       "      <th>sales</th>\n",
       "    </tr>\n",
       "    <tr>\n",
       "      <th>date</th>\n",
       "      <th></th>\n",
       "    </tr>\n",
       "  </thead>\n",
       "  <tbody>\n",
       "  </tbody>\n",
       "</table>\n",
       "</div>"
      ],
      "text/plain": [
       "Empty DataFrame\n",
       "Columns: [sales]\n",
       "Index: []"
      ]
     },
     "execution_count": 320,
     "metadata": {},
     "output_type": "execute_result"
    }
   ],
   "source": [
    "# Check for other odd value due to dicky fuller NAN values \n",
    "df2['sales'] = df2['sales'].fillna(0)\n",
    "df2[df2['sales'].isin([np.nan, np.inf, -np.inf])]"
   ]
  },
  {
   "cell_type": "code",
   "execution_count": 337,
   "metadata": {},
   "outputs": [
    {
     "data": {
      "image/png": "[encoded data removed]",
      "text/plain": [
       "<Figure size 432x288 with 1 Axes>"
      ]
     },
     "metadata": {
      "needs_background": "light"
     },
     "output_type": "display_data"
    }
   ],
   "source": [
    "# let's check the partial autocorrelation over a period of 48 months\n",
    "from statsmodels.graphics.tsaplots import plot_pacf\n",
    "\n",
    "series = df2\n",
    "plot_pacf(series, lags=48)\n",
    "pyplot.show()"
   ]
  },
  {
   "cell_type": "code",
   "execution_count": null,
   "metadata": {},
   "outputs": [],
   "source": [
    "# observation: series is correlated\n",
    "# the Autocorrelation function for the AR(k) time series is  strong to a lag of k( around 1) and the inertia of that relationship would carry on to subsequent lag values, trailing off at some point as the effect was weakened."
   ]
  },
  {
   "cell_type": "code",
   "execution_count": 348,
   "metadata": {},
   "outputs": [
    {
     "data": {
      "image/png": "[encoded data removed]",
      "text/plain": [
       "<Figure size 432x288 with 4 Axes>"
      ]
     },
     "metadata": {
      "needs_background": "light"
     },
     "output_type": "display_data"
    }
   ],
   "source": [
    "#let decompose the model to series to see if seasonality, trends, noise\n",
    "from statsmodels.tsa.seasonal import seasonal_decompose\n",
    "series = df2['sales']\n",
    "result = seasonal_decompose(series, model='additive')\n",
    "result.plot()\n",
    "pyplot.show()\n"
   ]
  },
  {
   "cell_type": "code",
   "execution_count": null,
   "metadata": {},
   "outputs": [],
   "source": [
    "#observation; the sales are pretty steady thourghout the year except but has some peaks\n",
    "# no seasonality"
   ]
  },
  {
   "cell_type": "code",
   "execution_count": 321,
   "metadata": {},
   "outputs": [
    {
     "name": "stdout",
     "output_type": "stream",
     "text": [
      "Results of Dickey-Fuller Test:\n",
      "Test Statistic                -8.498983e+00\n",
      "p-value                        1.253221e-13\n",
      "#Lags Used                     6.000000e+00\n",
      "Number of Observations Used    1.067000e+03\n",
      "Critical Value (1%)           -3.436493e+00\n",
      "Critical Value (5%)           -2.864253e+00\n",
      "Critical Value (10%)          -2.568214e+00\n",
      "dtype: float64\n"
     ]
    }
   ],
   "source": [
    "# checking for stationarity by running the dickey-fuller test.\n",
    "# if p static less than critical value then data is stationnary\n",
    "\n",
    "from statsmodels.tsa.stattools import adfuller\n",
    "\n",
    "def adf_test(timeseries):\n",
    "    #Perform Dickey-Fuller test:\n",
    "    print ('Results of Dickey-Fuller Test:')\n",
    "    dftest = adfuller(timeseries, autolag='AIC')\n",
    "    dfoutput = pd.Series(dftest[0:4], index=['Test Statistic','p-value','#Lags Used','Number of Observations Used'])\n",
    "    for key,value in dftest[4].items():\n",
    "       dfoutput['Critical Value (%s)'%key] = value\n",
    "    print (dfoutput)\n",
    "\n",
    "#apply adf test on the series\n",
    "adf_test(df2['sales'])"
   ]
  },
  {
   "cell_type": "code",
   "execution_count": null,
   "metadata": {},
   "outputs": [],
   "source": [
    "# P test statistic is less than the critical value, so the series is stationary\n"
   ]
  },
  {
   "cell_type": "markdown",
   "metadata": {},
   "source": [
    "Model performance DRAFT(to be adjusted once part 3 is submitted)\n",
    "using a ARIMA model ARIMA, short for ‘AutoRegressive Integrated Moving Average’, is a forecasting algorithm based on the idea that the information in the past values of the time series can alone be used to predict the future values.\n",
    "\n",
    "We will focus on the Sales forecast for the performance"
   ]
  },
  {
   "cell_type": "code",
   "execution_count": 323,
   "metadata": {},
   "outputs": [
    {
     "name": "stdout",
     "output_type": "stream",
     "text": [
      "0\n",
      "1\n"
     ]
    },
    {
     "data": {
      "text/plain": [
       "0"
      ]
     },
     "execution_count": 323,
     "metadata": {},
     "output_type": "execute_result"
    }
   ],
   "source": [
    "#let estimate my P,d, q values for arima\n",
    "#p= is num of lag obser,  d=num of time that of the raw obs are differentiated, \n",
    "# q is the size of moving average\n",
    "#%pip install pmdarima\n",
    "import pmdarima as pm\n",
    "from pmdarima.arima.utils import ndiffs\n",
    "\n",
    "\n",
    "y = df2\n",
    "\n",
    "\n",
    "## Adf Test\n",
    "print(ndiffs(y, test='adf') ) # 1\n",
    "\n",
    "# KPSS test\n",
    "print(ndiffs(y, test='kpss'))  # 0\n",
    "\n",
    "# PP test:\n",
    "ndiffs(y, test='pp')  # 1"
   ]
  },
  {
   "cell_type": "code",
   "execution_count": 327,
   "metadata": {},
   "outputs": [
    {
     "data": {
      "text/html": [
       "<table class=\"simpletable\">\n",
       "<caption>ARIMA Model Results</caption>\n",
       "<tr>\n",
       "  <th>Dep. Variable:</th>      <td>D.sales</td>     <th>  No. Observations:  </th>   <td>1073</td>   \n",
       "</tr>\n",
       "<tr>\n",
       "  <th>Model:</th>          <td>ARIMA(0, 1, 0)</td>  <th>  Log Likelihood     </th> <td>-8650.662</td>\n",
       "</tr>\n",
       "<tr>\n",
       "  <th>Method:</th>               <td>css</td>       <th>  S.D. of innovations</th>  <td>767.538</td> \n",
       "</tr>\n",
       "<tr>\n",
       "  <th>Date:</th>          <td>Thu, 05 Dec 2019</td> <th>  AIC                </th> <td>17305.324</td>\n",
       "</tr>\n",
       "<tr>\n",
       "  <th>Time:</th>              <td>15:43:06</td>     <th>  BIC                </th> <td>17315.280</td>\n",
       "</tr>\n",
       "<tr>\n",
       "  <th>Sample:</th>           <td>01-02-2013</td>    <th>  HQIC               </th> <td>17309.095</td>\n",
       "</tr>\n",
       "<tr>\n",
       "  <th></th>                 <td>- 12-10-2015</td>   <th>                     </th>     <td> </td>    \n",
       "</tr>\n",
       "</table>\n",
       "<table class=\"simpletable\">\n",
       "<tr>\n",
       "    <td></td>       <th>coef</th>     <th>std err</th>      <th>z</th>      <th>P>|z|</th>  <th>[0.025</th>    <th>0.975]</th>  \n",
       "</tr>\n",
       "<tr>\n",
       "  <th>const</th> <td>    0.4594</td> <td>   23.431</td> <td>    0.020</td> <td> 0.984</td> <td>  -45.466</td> <td>   46.384</td>\n",
       "</tr>\n",
       "</table>"
      ],
      "text/plain": [
       "<class 'statsmodels.iolib.summary.Summary'>\n",
       "\"\"\"\n",
       "                             ARIMA Model Results                              \n",
       "==============================================================================\n",
       "Dep. Variable:                D.sales   No. Observations:                 1073\n",
       "Model:                 ARIMA(0, 1, 0)   Log Likelihood               -8650.662\n",
       "Method:                           css   S.D. of innovations            767.538\n",
       "Date:                Thu, 05 Dec 2019   AIC                          17305.324\n",
       "Time:                        15:43:06   BIC                          17315.280\n",
       "Sample:                    01-02-2013   HQIC                         17309.095\n",
       "                         - 12-10-2015                                         \n",
       "==============================================================================\n",
       "                 coef    std err          z      P>|z|      [0.025      0.975]\n",
       "------------------------------------------------------------------------------\n",
       "const          0.4594     23.431      0.020      0.984     -45.466      46.384\n",
       "==============================================================================\n",
       "\"\"\""
      ]
     },
     "execution_count": 327,
     "metadata": {},
     "output_type": "execute_result"
    }
   ],
   "source": [
    "# from that we know that our best ARIMA parameters are 0,1,0 so we can fit the data into it\n",
    "from statsmodels.tsa.arima_model import ARIMA\n",
    "from pandas import Series\n",
    "\n",
    "\n",
    "#  ARIMA Model fit\n",
    "model = ARIMA(df2.sales, order=(0,1,0))\n",
    "model_fit = model.fit(disp=0)\n",
    "model_fit.summary()\n"
   ]
  },
  {
   "cell_type": "code",
   "execution_count": null,
   "metadata": {},
   "outputs": [],
   "source": [
    "#observation:  there is no AR which means that the series is stationnary"
   ]
  },
  {
   "cell_type": "code",
   "execution_count": 329,
   "metadata": {},
   "outputs": [
    {
     "data": {
      "text/html": [
       "<table class=\"simpletable\">\n",
       "<caption>ARIMA Model Results</caption>\n",
       "<tr>\n",
       "  <th>Dep. Variable:</th>      <td>D.sales</td>     <th>  No. Observations:  </th>   <td>1073</td>   \n",
       "</tr>\n",
       "<tr>\n",
       "  <th>Model:</th>          <td>ARIMA(5, 1, 0)</td>  <th>  Log Likelihood     </th> <td>-8498.456</td>\n",
       "</tr>\n",
       "<tr>\n",
       "  <th>Method:</th>             <td>css-mle</td>     <th>  S.D. of innovations</th>  <td>665.842</td> \n",
       "</tr>\n",
       "<tr>\n",
       "  <th>Date:</th>          <td>Thu, 05 Dec 2019</td> <th>  AIC                </th> <td>17010.911</td>\n",
       "</tr>\n",
       "<tr>\n",
       "  <th>Time:</th>              <td>15:51:30</td>     <th>  BIC                </th> <td>17045.759</td>\n",
       "</tr>\n",
       "<tr>\n",
       "  <th>Sample:</th>           <td>01-02-2013</td>    <th>  HQIC               </th> <td>17024.110</td>\n",
       "</tr>\n",
       "<tr>\n",
       "  <th></th>                 <td>- 12-10-2015</td>   <th>                     </th>     <td> </td>    \n",
       "</tr>\n",
       "</table>\n",
       "<table class=\"simpletable\">\n",
       "<tr>\n",
       "        <td></td>           <th>coef</th>     <th>std err</th>      <th>z</th>      <th>P>|z|</th>  <th>[0.025</th>    <th>0.975]</th>  \n",
       "</tr>\n",
       "<tr>\n",
       "  <th>const</th>         <td>    0.3878</td> <td>    7.522</td> <td>    0.052</td> <td> 0.959</td> <td>  -14.355</td> <td>   15.131</td>\n",
       "</tr>\n",
       "<tr>\n",
       "  <th>ar.L1.D.sales</th> <td>   -0.5307</td> <td>    0.030</td> <td>  -17.571</td> <td> 0.000</td> <td>   -0.590</td> <td>   -0.471</td>\n",
       "</tr>\n",
       "<tr>\n",
       "  <th>ar.L2.D.sales</th> <td>   -0.4605</td> <td>    0.034</td> <td>  -13.704</td> <td> 0.000</td> <td>   -0.526</td> <td>   -0.395</td>\n",
       "</tr>\n",
       "<tr>\n",
       "  <th>ar.L3.D.sales</th> <td>   -0.3515</td> <td>    0.035</td> <td>  -10.106</td> <td> 0.000</td> <td>   -0.420</td> <td>   -0.283</td>\n",
       "</tr>\n",
       "<tr>\n",
       "  <th>ar.L4.D.sales</th> <td>   -0.2191</td> <td>    0.034</td> <td>   -6.530</td> <td> 0.000</td> <td>   -0.285</td> <td>   -0.153</td>\n",
       "</tr>\n",
       "<tr>\n",
       "  <th>ar.L5.D.sales</th> <td>   -0.1444</td> <td>    0.030</td> <td>   -4.790</td> <td> 0.000</td> <td>   -0.203</td> <td>   -0.085</td>\n",
       "</tr>\n",
       "</table>\n",
       "<table class=\"simpletable\">\n",
       "<caption>Roots</caption>\n",
       "<tr>\n",
       "    <td></td>   <th>            Real</th>  <th>         Imaginary</th> <th>         Modulus</th>  <th>        Frequency</th>\n",
       "</tr>\n",
       "<tr>\n",
       "  <th>AR.1</th> <td>           0.6780</td> <td>          -1.2165j</td> <td>           1.3926</td> <td>          -0.1691</td>\n",
       "</tr>\n",
       "<tr>\n",
       "  <th>AR.2</th> <td>           0.6780</td> <td>          +1.2165j</td> <td>           1.3926</td> <td>           0.1691</td>\n",
       "</tr>\n",
       "<tr>\n",
       "  <th>AR.3</th> <td>          -1.5290</td> <td>          -0.0000j</td> <td>           1.5290</td> <td>          -0.5000</td>\n",
       "</tr>\n",
       "<tr>\n",
       "  <th>AR.4</th> <td>          -0.6725</td> <td>          -1.3725j</td> <td>           1.5284</td> <td>          -0.3225</td>\n",
       "</tr>\n",
       "<tr>\n",
       "  <th>AR.5</th> <td>          -0.6725</td> <td>          +1.3725j</td> <td>           1.5284</td> <td>           0.3225</td>\n",
       "</tr>\n",
       "</table>"
      ],
      "text/plain": [
       "<class 'statsmodels.iolib.summary.Summary'>\n",
       "\"\"\"\n",
       "                             ARIMA Model Results                              \n",
       "==============================================================================\n",
       "Dep. Variable:                D.sales   No. Observations:                 1073\n",
       "Model:                 ARIMA(5, 1, 0)   Log Likelihood               -8498.456\n",
       "Method:                       css-mle   S.D. of innovations            665.842\n",
       "Date:                Thu, 05 Dec 2019   AIC                          17010.911\n",
       "Time:                        15:51:30   BIC                          17045.759\n",
       "Sample:                    01-02-2013   HQIC                         17024.110\n",
       "                         - 12-10-2015                                         \n",
       "=================================================================================\n",
       "                    coef    std err          z      P>|z|      [0.025      0.975]\n",
       "---------------------------------------------------------------------------------\n",
       "const             0.3878      7.522      0.052      0.959     -14.355      15.131\n",
       "ar.L1.D.sales    -0.5307      0.030    -17.571      0.000      -0.590      -0.471\n",
       "ar.L2.D.sales    -0.4605      0.034    -13.704      0.000      -0.526      -0.395\n",
       "ar.L3.D.sales    -0.3515      0.035    -10.106      0.000      -0.420      -0.283\n",
       "ar.L4.D.sales    -0.2191      0.034     -6.530      0.000      -0.285      -0.153\n",
       "ar.L5.D.sales    -0.1444      0.030     -4.790      0.000      -0.203      -0.085\n",
       "                                    Roots                                    \n",
       "=============================================================================\n",
       "                  Real          Imaginary           Modulus         Frequency\n",
       "-----------------------------------------------------------------------------\n",
       "AR.1            0.6780           -1.2165j            1.3926           -0.1691\n",
       "AR.2            0.6780           +1.2165j            1.3926            0.1691\n",
       "AR.3           -1.5290           -0.0000j            1.5290           -0.5000\n",
       "AR.4           -0.6725           -1.3725j            1.5284           -0.3225\n",
       "AR.5           -0.6725           +1.3725j            1.5284            0.3225\n",
       "-----------------------------------------------------------------------------\n",
       "\"\"\""
      ]
     },
     "execution_count": 329,
     "metadata": {},
     "output_type": "execute_result"
    }
   ],
   "source": [
    "\n",
    "#  ARIMA Model with a different order to see different values of error and stdv at different lags\n",
    "model = ARIMA(df2.sales, order=(5,1,0))\n",
    "model_fit = model.fit(disp=0)\n",
    "model_fit.summary()\n",
    "#summary(model_fit)"
   ]
  },
  {
   "cell_type": "code",
   "execution_count": null,
   "metadata": {},
   "outputs": [],
   "source": [
    "# observation: P value is more 0.959 is more than our significance level of 0.05\n",
    "# model is overfitted?"
   ]
  },
  {
   "cell_type": "code",
   "execution_count": null,
   "metadata": {},
   "outputs": [],
   "source": []
  },
  {
   "cell_type": "code",
   "execution_count": null,
   "metadata": {},
   "outputs": [],
   "source": []
  },
  {
   "cell_type": "code",
   "execution_count": null,
   "metadata": {},
   "outputs": [],
   "source": []
  },
  {
   "cell_type": "code",
   "execution_count": null,
   "metadata": {},
   "outputs": [],
   "source": []
  },
  {
   "cell_type": "code",
   "execution_count": 330,
   "metadata": {},
   "outputs": [
    {
     "data": {
      "image/png": "[encoded data removed]",
      "text/plain": [
       "<Figure size 432x288 with 1 Axes>"
      ]
     },
     "metadata": {
      "needs_background": "light"
     },
     "output_type": "display_data"
    },
    {
     "data": {
      "image/png": "[encoded data removed]",
      "text/plain": [
       "<Figure size 432x288 with 1 Axes>"
      ]
     },
     "metadata": {
      "needs_background": "light"
     },
     "output_type": "display_data"
    },
    {
     "name": "stdout",
     "output_type": "stream",
     "text": [
      "                  0\n",
      "count   1073.000000\n",
      "mean      -0.094350\n",
      "std      666.154137\n",
      "min    -4071.366242\n",
      "25%     -161.171121\n",
      "50%      -33.559933\n",
      "75%       92.152154\n",
      "max    10388.855083\n"
     ]
    }
   ],
   "source": [
    "# let check our Model residual error\n",
    "# plot residual errors\n",
    "\n",
    "from pandas import DataFrame\n",
    "from matplotlib import pyplot\n",
    "residuals = DataFrame(model_fit.resid)\n",
    "residuals.plot()\n",
    "pyplot.show()\n",
    "residuals.plot(kind='kde')\n",
    "pyplot.show()\n",
    "print(residuals.describe())\n",
    "\n",
    "######\n"
   ]
  },
  {
   "cell_type": "code",
   "execution_count": null,
   "metadata": {},
   "outputs": [],
   "source": []
  },
  {
   "cell_type": "code",
   "execution_count": null,
   "metadata": {},
   "outputs": [],
   "source": [
    "#the residual errors is  near zero mean and uniform variance.\n",
    "# good sign for the model"
   ]
  },
  {
   "cell_type": "code",
   "execution_count": null,
   "metadata": {},
   "outputs": [],
   "source": [
    "\n"
   ]
  },
  {
   "cell_type": "code",
   "execution_count": 333,
   "metadata": {},
   "outputs": [
    {
     "name": "stdout",
     "output_type": "stream",
     "text": [
      "predicted=1278.342108, expected=1261.936877\n",
      "predicted=1262.529840, expected=1232.555460\n",
      "predicted=1233.108563, expected=1167.930746\n",
      "predicted=1168.397291, expected=1199.819329\n",
      "predicted=1200.327548, expected=1326.388387\n",
      "predicted=1327.063574, expected=1372.849305\n",
      "predicted=1373.585056, expected=1254.449199\n",
      "predicted=1255.027570, expected=1367.676225\n",
      "predicted=1368.403209, expected=1505.031567\n",
      "predicted=1505.938563, expected=1108.359050\n",
      "predicted=1108.742914, expected=1571.445789\n",
      "predicted=1572.437673, expected=1390.788866\n",
      "predicted=1391.542366, expected=1123.317836\n",
      "predicted=1123.719797, expected=1265.505952\n",
      "predicted=1266.093497, expected=1148.760213\n",
      "predicted=1149.194381, expected=1220.072894\n",
      "predicted=1220.599593, expected=1019.618094\n",
      "predicted=1019.882756, expected=978.299075\n",
      "predicted=978.509592, expected=1302.227216\n",
      "predicted=1302.858693, expected=1957.459311\n",
      "predicted=1958.940918, expected=0.000000\n",
      "predicted=-1.059172, expected=0.000000\n",
      "predicted=-1.057800, expected=1070.673792\n",
      "predicted=1071.002449, expected=1164.313408\n",
      "predicted=1164.762621, expected=1036.225482\n",
      "predicted=1036.508841, expected=1085.795864\n",
      "predicted=1086.142740, expected=1055.889164\n",
      "predicted=1056.197101, expected=1071.857039\n",
      "predicted=1072.185105, expected=1072.270223\n",
      "predicted=1072.598398, expected=2147.797756\n",
      "predicted=2149.504391, expected=1369.016621\n",
      "predicted=1369.723912, expected=1263.039975\n",
      "predicted=1263.610842, expected=1320.056274\n",
      "predicted=1320.699230, expected=1246.727739\n",
      "predicted=1247.276344, expected=1221.851337\n",
      "predicted=1222.367553, expected=1234.931476\n",
      "predicted=1235.463677, expected=1197.084519\n",
      "predicted=1197.567953, expected=1040.542380\n",
      "predicted=1040.826543, expected=1570.000690\n",
      "predicted=1570.955542, expected=972.494656\n",
      "predicted=972.691963, expected=878.610230\n",
      "predicted=878.688597, expected=1138.469638\n",
      "predicted=1138.876011, expected=1074.379714\n",
      "predicted=1074.704756, expected=1144.566909\n",
      "predicted=1144.979938, expected=1072.926055\n",
      "predicted=1073.248450, expected=1091.879817\n",
      "predicted=1092.225618, expected=2048.893302\n",
      "predicted=2050.439439, expected=2008.912226\n",
      "predicted=2010.406324, expected=0.000000\n",
      "predicted=-1.022055, expected=0.000000\n",
      "predicted=-1.020777, expected=1079.628415\n",
      "predicted=1079.956762, expected=1104.374135\n",
      "predicted=1104.732928, expected=980.060687\n",
      "predicted=980.264222, expected=1114.594805\n",
      "predicted=1114.965418, expected=1299.590555\n",
      "predicted=1300.190516, expected=1188.710566\n",
      "predicted=1189.172214, expected=1399.821436\n",
      "predicted=1400.544112, expected=1262.995676\n",
      "predicted=1263.548119, expected=1174.189104\n",
      "predicted=1174.631091, expected=1115.407048\n",
      "predicted=1115.775918, expected=1140.922883\n",
      "predicted=1141.322761, expected=1180.621270\n",
      "predicted=1181.069545, expected=2939.857263\n",
      "predicted=2942.468868, expected=1951.323853\n",
      "predicted=1952.717836, expected=1663.039457\n",
      "predicted=1664.078006, expected=1299.665009\n",
      "predicted=1300.256974, expected=1166.944161\n",
      "predicted=1167.372952, expected=1479.742105\n",
      "predicted=1480.552766, expected=1400.283322\n",
      "predicted=1400.995973, expected=1381.662810\n",
      "predicted=1382.351885, expected=1173.604069\n",
      "predicted=1174.038883, expected=954.013675\n",
      "predicted=954.180819, expected=1157.609415\n",
      "predicted=1158.023737, expected=1009.278417\n",
      "predicted=1009.512224, expected=1327.257335\n",
      "predicted=1327.876287, expected=1086.385858\n",
      "predicted=1086.712449, expected=989.850047\n",
      "predicted=990.059513, expected=1574.258295\n",
      "predicted=1575.173315, expected=1860.784032\n",
      "predicted=1862.043576, expected=0.000000\n",
      "predicted=-0.983882, expected=0.000000\n",
      "predicted=-0.982698, expected=1120.672885\n",
      "predicted=1121.038331, expected=8201.501317\n",
      "predicted=8210.366719, expected=3776.337146\n",
      "predicted=3779.885965, expected=2848.890820\n",
      "predicted=2851.324675, expected=2238.327381\n",
      "predicted=2240.027985, expected=1779.515386\n",
      "predicted=1780.665797, expected=1558.010505\n",
      "predicted=1558.895217, expected=1580.894709\n",
      "predicted=1581.805642, expected=1753.579636\n",
      "predicted=1754.695062, expected=1344.506408\n",
      "predicted=1345.134094, expected=1177.895204\n",
      "predicted=1178.324269, expected=1268.348234\n",
      "predicted=1268.884090, expected=1248.645243\n",
      "predicted=1249.157119, expected=1249.691764\n",
      "predicted=1250.204272, expected=1283.062426\n",
      "predicted=1283.613774, expected=1265.077894\n",
      "predicted=1265.607358, expected=1182.378541\n",
      "predicted=1182.809857, expected=1104.443290\n",
      "predicted=1104.782302, expected=1302.731284\n",
      "predicted=1303.303177, expected=1161.025659\n",
      "predicted=1161.430364, expected=1022.510622\n",
      "predicted=1022.752275, expected=1034.506093\n",
      "predicted=1034.761526, expected=1003.297349\n",
      "predicted=1003.515938, expected=1144.174672\n",
      "predicted=1144.557775, expected=1123.301672\n",
      "predicted=1123.659943, expected=1074.965073\n",
      "predicted=1075.266524, expected=1545.821023\n",
      "predicted=1546.670905, expected=1394.395026\n",
      "predicted=1395.067637, expected=0.000000\n",
      "predicted=-0.949560, expected=0.000000\n",
      "predicted=-0.948458, expected=1103.487589\n",
      "predicted=1103.820379, expected=1055.919250\n",
      "predicted=1056.196536, expected=999.031144\n",
      "predicted=999.242265, expected=1093.710515\n",
      "predicted=1094.030849, expected=1095.352330\n",
      "predicted=1095.674189, expected=2321.275552\n",
      "predicted=2323.011023, expected=10215.477307\n",
      "predicted=10226.305482, expected=3128.302214\n",
      "predicted=3130.962375, expected=2130.765240\n",
      "predicted=2132.275750, expected=1684.912132\n",
      "predicted=1685.909021, expected=1461.920205\n",
      "predicted=1462.660226, expected=1333.756414\n",
      "predicted=1334.348778, expected=1440.744424\n",
      "predicted=1441.458523, expected=1373.203301\n",
      "predicted=1373.839394, expected=1174.194497\n",
      "predicted=1174.602685, expected=1245.890554\n",
      "predicted=1246.380028, expected=1192.910480\n",
      "predicted=1193.339055, expected=1312.854331\n",
      "predicted=1313.418873, expected=1121.619146\n",
      "predicted=1121.965734, expected=1486.338528\n",
      "predicted=1487.098706, expected=1013.314456\n",
      "predicted=1013.537464, expected=1005.286223\n",
      "predicted=1005.499886, expected=1303.539353\n",
      "predicted=1304.090164, expected=1124.576117\n",
      "predicted=1124.924088, expected=1273.885214\n",
      "predicted=1274.401312, expected=1421.933248\n",
      "predicted=1422.615673, expected=1003.353615\n",
      "predicted=1003.563898, expected=1342.500630\n",
      "predicted=1343.092170, expected=1162.816927\n",
      "predicted=1163.205910, expected=0.000000\n",
      "predicted=-0.916523, expected=0.000000\n",
      "predicted=-0.915495, expected=1228.422668\n",
      "predicted=1228.883811, expected=1078.176789\n",
      "predicted=1078.469356, expected=1182.848609\n",
      "predicted=1183.257801, expected=1077.551114\n",
      "predicted=1077.842330, expected=988.193281\n",
      "predicted=988.384554, expected=1085.951855\n",
      "predicted=1086.251776, expected=1142.239876\n",
      "predicted=1142.602076, expected=1084.280937\n",
      "predicted=1084.578336, expected=1086.653716\n",
      "predicted=1086.953418, expected=1163.235829\n",
      "predicted=1163.620102, expected=2201.525667\n",
      "predicted=2203.059337, expected=1397.953413\n",
      "predicted=1398.596479, expected=1180.586419\n",
      "predicted=1180.988590, expected=1182.831190\n",
      "predicted=1183.235395, expected=1083.347995\n",
      "predicted=1083.642070, expected=1100.659957\n",
      "predicted=1100.972774, expected=1333.371024\n",
      "predicted=1333.939505, expected=1211.508914\n",
      "predicted=1211.942856, expected=1249.456072\n",
      "predicted=1249.931192, expected=1062.562495\n",
      "predicted=1062.832167, expected=1072.839438\n",
      "predicted=1073.120070, expected=1052.200222\n",
      "predicted=1052.457966, expected=1031.966349\n",
      "predicted=1032.201698, expected=1139.798910\n",
      "predicted=1140.151723, expected=1288.898778\n",
      "predicted=1289.413802, expected=1034.078296\n",
      "predicted=1034.315176, expected=1465.848505\n",
      "predicted=1466.554954, expected=1919.264942\n",
      "predicted=1920.463467, expected=0.000000\n",
      "predicted=-0.886669, expected=0.000000\n",
      "predicted=-0.885707, expected=1028.244053\n",
      "predicted=1028.473329, expected=1106.818180\n",
      "predicted=1107.132245, expected=1222.485799\n",
      "predicted=1222.924571, expected=1081.765968\n",
      "predicted=1082.052301, expected=1044.407838\n",
      "predicted=1044.653561, expected=971.485973\n",
      "predicted=971.652853, expected=901.440825\n",
      "predicted=901.532126, expected=1002.580953\n",
      "predicted=1002.780909, expected=1036.778729\n",
      "predicted=1037.015199, expected=1014.398906\n",
      "predicted=1014.611113, expected=973.205179\n",
      "predicted=973.373007, expected=973.612887\n",
      "predicted=973.780972, expected=968.072841\n",
      "predicted=968.234821, expected=1016.788216\n",
      "predicted=1017.002069, expected=958.430278\n",
      "predicted=958.581621, expected=1077.033277\n",
      "predicted=1077.310901, expected=1002.656159\n",
      "predicted=1002.854278, expected=989.249679\n",
      "predicted=989.433325, expected=975.039735\n",
      "predicted=975.208085, expected=1353.661037\n",
      "predicted=1354.231143, expected=1112.576441\n",
      "predicted=1112.890285, expected=1035.278594\n",
      "predicted=1035.510221, expected=1085.028398\n",
      "predicted=1085.312426, expected=1136.603938\n",
      "predicted=1136.942185, expected=1130.904477\n",
      "predicted=1131.236349, expected=1246.336907\n",
      "predicted=1246.790193, expected=988.729840\n",
      "predicted=988.911197, expected=1486.547668\n",
      "predicted=1487.252853, expected=1518.811672\n",
      "predicted=1519.550042, expected=0.000000\n",
      "predicted=-0.857796, expected=0.000000\n",
      "predicted=-0.856896, expected=914.174457\n",
      "predicted=914.276713, expected=1129.784842\n",
      "predicted=1130.112761, expected=1043.871117\n",
      "predicted=1044.108826, expected=964.282874\n",
      "predicted=964.437170, expected=1020.840215\n",
      "predicted=1021.053387, expected=967.991727\n",
      "predicted=968.149569, expected=959.324957\n",
      "predicted=959.473606, expected=948.840346\n",
      "predicted=948.977930, expected=966.792922\n",
      "predicted=966.949025, expected=1054.153910\n",
      "predicted=1054.400569, expected=1004.925570\n",
      "predicted=1005.120905, expected=1038.828012\n",
      "predicted=1039.058277, expected=1135.066557\n",
      "predicted=1135.396209, expected=1734.710323\n",
      "predicted=1735.659742, expected=1382.255616\n",
      "predicted=1382.839949, expected=1355.489043\n",
      "predicted=1356.045150, expected=1228.708285\n",
      "predicted=1229.133116, expected=1091.101475\n",
      "predicted=1091.384153, expected=1180.158805\n",
      "predicted=1180.532814, expected=1306.130731\n",
      "predicted=1306.633823, expected=1107.596415\n",
      "predicted=1107.895157, expected=1011.973496\n",
      "predicted=1012.173856, expected=1172.375024\n",
      "predicted=1172.739526, expected=1160.455388\n",
      "predicted=1160.807316, expected=1210.524877\n",
      "predicted=1210.927641, expected=1134.339759\n",
      "predicted=1134.664292, expected=1018.390965\n",
      "predicted=1018.596851, expected=1287.696514\n",
      "predicted=1288.176712, expected=1333.487356\n",
      "predicted=1334.013696, expected=0.000000\n",
      "predicted=-0.830745, expected=0.000000\n",
      "predicted=-0.829900, expected=1197.821249\n",
      "predicted=1198.208253, expected=1344.908298\n",
      "predicted=1345.444085, expected=1721.565648\n",
      "predicted=1722.482511, expected=1882.737548\n",
      "predicted=1883.816617, expected=1765.408341\n",
      "predicted=1766.367681, expected=1710.968396\n",
      "predicted=1711.871776, expected=1427.112600\n",
      "predicted=1427.728635, expected=1269.795727\n",
      "predicted=1270.252555, expected=1327.230833\n",
      "predicted=1327.745041, expected=4614.613725\n",
      "predicted=4618.434643, expected=2224.960914\n",
      "predicted=2226.376331, expected=1940.116608\n",
      "predicted=1941.244614, expected=1958.060407\n",
      "predicted=1959.205280, expected=1897.119591\n",
      "predicted=1898.202253, expected=1773.819023\n",
      "predicted=1774.777176, expected=2449.452984\n",
      "predicted=2451.085816, expected=4791.534099\n",
      "predicted=4795.505040, expected=4797.213259\n",
      "predicted=4801.185905, expected=1332.239818\n",
      "predicted=1332.753893, expected=1135.913928\n",
      "predicted=1136.231948, expected=1581.928977\n",
      "predicted=1582.690476, expected=1064.180552\n",
      "predicted=1064.426635, expected=1041.327488\n",
      "predicted=1041.550632, expected=1075.969130\n",
      "predicted=1076.226419, expected=1156.539659\n",
      "predicted=1156.876545, expected=1007.236144\n",
      "predicted=1007.424871, expected=1241.832330\n",
      "predicted=1242.252914, expected=1342.102179\n",
      "predicted=1342.621428, expected=0.000000\n",
      "predicted=-0.806142, expected=0.000000\n",
      "predicted=-0.805347, expected=1678.486681\n",
      "predicted=1679.335809, expected=1473.817055\n",
      "predicted=1474.463901, expected=1311.110626\n",
      "predicted=1311.596849, expected=1180.815318\n",
      "predicted=1181.173072, expected=1215.377555\n",
      "predicted=1215.768876, expected=1207.774257\n",
      "predicted=1208.157740, expected=1054.519567\n",
      "predicted=1054.752572, expected=1855.086475\n",
      "predicted=1856.102586, expected=1757.716854\n",
      "predicted=1758.636790, expected=1886.193694\n",
      "predicted=1887.238197, expected=3110.230692\n",
      "predicted=3112.468359, expected=1668.607230\n",
      "predicted=1669.437625, expected=1604.559165\n",
      "predicted=1605.326387, expected=1570.389248\n",
      "predicted=1571.122485, expected=1661.383637\n",
      "predicted=1662.204589, expected=1391.074394\n",
      "predicted=1391.632115, expected=1323.568071\n",
      "predicted=1324.059775, expected=1352.341135\n",
      "predicted=1352.860243, expected=1234.734036\n",
      "predicted=1235.138792, expected=1484.209708\n",
      "predicted=1484.855344, expected=1169.928344\n",
      "predicted=1170.269703, expected=1235.007465\n",
      "predicted=1235.411312, expected=1130.896034\n",
      "predicted=1131.199095, expected=1155.998120\n",
      "predicted=1156.325072, expected=1239.847335\n",
      "predicted=1240.254674, expected=1076.746541\n",
      "predicted=1076.996661, expected=982.019790\n",
      "predicted=982.178673, expected=1338.564314\n",
      "predicted=1339.065219, expected=1230.524419\n",
      "predicted=1230.921258, expected=0.000000\n",
      "predicted=-0.782205, expected=0.000000\n",
      "predicted=-0.781456, expected=0.000000\n",
      "predicted=-0.780707, expected=0.000000\n",
      "predicted=-0.779964, expected=0.000000\n",
      "predicted=-0.779219, expected=0.000000\n",
      "predicted=-0.778477, expected=0.000000\n",
      "predicted=-0.777735, expected=0.000000\n",
      "predicted=-0.776995, expected=0.000000\n",
      "predicted=-0.776257, expected=0.000000\n",
      "predicted=-0.775519, expected=0.000000\n",
      "predicted=-0.774784, expected=0.000000\n",
      "predicted=-0.774049, expected=0.000000\n",
      "predicted=-0.773316, expected=0.000000\n",
      "predicted=-0.772585, expected=0.000000\n",
      "predicted=-0.771854, expected=0.000000\n",
      "predicted=-0.771126, expected=0.000000\n",
      "predicted=-0.770398, expected=0.000000\n",
      "predicted=-0.769672, expected=0.000000\n",
      "predicted=-0.768947, expected=0.000000\n",
      "predicted=-0.768224, expected=1292.074571\n",
      "predicted=1292.521425, expected=1082.168586\n",
      "predicted=1082.417926, expected=1020.577731\n",
      "predicted=1020.769060, expected=1039.485966\n",
      "predicted=1039.694836, expected=1202.169190\n",
      "predicted=1202.530189, expected=1118.920633\n",
      "predicted=1119.203419, expected=1030.952726\n",
      "predicted=1031.153036, expected=943.637664\n",
      "predicted=943.756259, expected=1253.008349\n",
      "predicted=1253.415426, expected=1309.527663\n",
      "Test MSE: 874838.737\n"
     ]
    },
    {
     "data": {
      "image/png": "[encoded data removed]",
      "text/plain": [
       "<Figure size 432x288 with 1 Axes>"
      ]
     },
     "metadata": {
      "needs_background": "light"
     },
     "output_type": "display_data"
    }
   ],
   "source": [
    "#  Forecast Performance Measure and Metrics Measures\n",
    "\n",
    "# let evaluate the model performance with  trained data\n",
    "# we we will also use a 70% of the data training\n",
    "## we will use 70% of the whole data for training and the remaining 30 % for test\n",
    "\n",
    "########\n",
    "from pandas import datetime\n",
    "from matplotlib import pyplot\n",
    "from statsmodels.tsa.arima_model import ARIMA\n",
    "from sklearn.metrics import mean_squared_error\n",
    " \n",
    "\n",
    " \n",
    "\n",
    "X = df2.values\n",
    "size = int(len(X) * 0.70)\n",
    "train, test = X[0:size], X[size:len(X)]\n",
    "history = [x for x in train]\n",
    "predictions = list()\n",
    "for t in range(len(test)):\n",
    "    model = ARIMA(history, order=(0,1,0))\n",
    "    model_fit = model.fit(disp=0)\n",
    "    output = model_fit.forecast()\n",
    "    yhat = output[0]\n",
    "    predictions.append(yhat)\n",
    "    obs = test[t]\n",
    "    history.append(obs)\n",
    "    print('predicted=%f, expected=%f' % (yhat, obs))\n",
    "error = mean_squared_error(test, predictions)\n",
    "print('Test MSE: %.3f' % error)\n",
    "# plot\n",
    "#pyplot.plot(test)\n",
    "#pyplot.plot(predictions, color='red')\n",
    "#pyplot.show()\n"
   ]
  },
  {
   "cell_type": "code",
   "execution_count": 349,
   "metadata": {},
   "outputs": [
    {
     "data": {
      "image/png": "[encoded data removed]",
      "text/plain": [
       "<Figure size 432x288 with 1 Axes>"
      ]
     },
     "metadata": {
      "needs_background": "light"
     },
     "output_type": "display_data"
    }
   ],
   "source": [
    "# plot\n",
    "pyplot.plot(test)\n",
    "pyplot.plot(predictions, color='red')\n",
    "pyplot.show()"
   ]
  },
  {
   "cell_type": "markdown",
   "metadata": {},
   "source": [
    "-overall the predicted values are pretty closed to the training \n",
    "-the graph( at the end of the long list) shows that the forecast mimics the ---training sample so our model is very good\n",
    "-MSE means the model is wrong for 707693.141 on sales!  could be that the model is overfitting"
   ]
  },
  {
   "cell_type": "markdown",
   "metadata": {},
   "source": [
    "conclusion: the Arima time series models use information coming from the time series itself, i.e. coming from the so far observed values. However such models may not be able to see and to model high and low peaks. Hence, we can use either exogenous variables or add dummies to somehow force the model to fine tune at specific times."
   ]
  },
  {
   "cell_type": "code",
   "execution_count": null,
   "metadata": {},
   "outputs": [],
   "source": []
  },
  {
   "cell_type": "code",
   "execution_count": null,
   "metadata": {},
   "outputs": [],
   "source": []
  }
 ],
 "metadata": {
  "kernelspec": {
   "display_name": "Python 3",
   "language": "python",
   "name": "python3"
  },
  "language_info": {
   "codemirror_mode": {
    "name": "ipython",
    "version": 3
   },
   "file_extension": ".py",
   "mimetype": "text/x-python",
   "name": "python",
   "nbconvert_exporter": "python",
   "pygments_lexer": "ipython3",
   "version": "3.7.3"
  }
 },
 "nbformat": 4,
 "nbformat_minor": 2
}
